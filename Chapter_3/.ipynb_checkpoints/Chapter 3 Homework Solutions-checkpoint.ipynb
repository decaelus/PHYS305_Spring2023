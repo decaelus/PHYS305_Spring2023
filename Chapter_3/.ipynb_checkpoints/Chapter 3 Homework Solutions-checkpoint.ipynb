{
 "cells": [
  {
   "cell_type": "markdown",
   "id": "edaf10e1",
   "metadata": {},
   "source": [
    "### 1. "
   ]
  },
  {
   "cell_type": "markdown",
   "id": "81d5972e",
   "metadata": {},
   "source": [
    "Based on the diagram above, we can write the vectors in $\\left( x, y, z \\right)$ coordinates as\n",
    "$$\n",
    "\\vec{r}_1 = \\left( \\cos \\delta_1 \\cos \\alpha_1, \\cos \\delta_1 \\sin \\alpha_1, \\sin \\delta_1 \\right)\\\\\n",
    "\\vec{r}_2 = \\left( \\cos \\delta_2 \\cos \\alpha_2, \\cos \\delta_2 \\sin \\alpha_2, \\sin \\delta_2 \\right).\n",
    "$$\n",
    "\n",
    "The angle between them $\\theta$ is given by\n",
    "$$\n",
    "\\cos \\theta = \\vec{r}_1 \\cdot \\vec{r}_2 = \\cos \\delta_1 \\cos \\delta_2 \\cos \\alpha_1 \\cos \\alpha_2 + \\cos \\delta_1 \\cos \\delta_2 \\sin \\alpha_1 \\sin \\alpha_2 + \\sin \\delta_1 \\sin \\delta_2\\\\\n",
    "= \\cos \\delta_1 \\cos \\delta_2 \\left( \\cos \\alpha_1 \\cos \\alpha_2 + \\sin \\alpha_1 \\sin \\alpha_2 \\right) + \\sin \\delta_1 \\sin \\delta_2.\n",
    "$$\n",
    "\n",
    "We can use a standard trig identity to simplify the equation:\n",
    "$$\n",
    "\\cos \\alpha_1 \\cos \\alpha_2 \\pm \\sin \\alpha_1 \\sin \\alpha_2 = \\cos \\left( \\alpha_1 \\mp \\alpha_2 \\right).\n",
    "$$\n",
    "\n",
    "So\n",
    "$$\n",
    "\\vec{r}_1 \\cdot \\vec{r}_2 = \\boxed{ \\cos \\theta = \\cos \\delta_1 \\cos \\delta_2 \\cos \\left( \\alpha_1 - \\alpha_2 \\right) + \\sin \\delta_1 \\sin \\delta_2 }.\n",
    "$$"
   ]
  },
  {
   "cell_type": "markdown",
   "id": "b4b8b818",
   "metadata": {},
   "source": [
    "### 2."
   ]
  },
  {
   "cell_type": "markdown",
   "id": "57f246de",
   "metadata": {},
   "source": [
    "Presumably, Chromey means for us to compare the distance along the surface of the Earth. Otherwise, we could compare the straight-line distance through the Earth's interior.\n",
    "\n",
    "The arc length along the surface of the Earth $d$ is given by $d = R_{\\rm Earth} \\theta$, where $\\theta$ is the same angle we calculated in problem 1 (and calculated in radians). RA and declination are the equivalent to longitude and latitude, so we can use the equation we just worked out to solve for $\\theta$.\n",
    "\n",
    "Distance between New York City and Los Angeles:\n",
    "$$\n",
    "\\cos \\theta = \\cos \\left( 41^\\circ \\right) \\cos \\left( 34^\\circ \\right) \\cos \\left( 118^\\circ - 74^\\circ \\right) + \\sin \\left( 41^\\circ \\right) \\sin \\left( 34^\\circ \\right) = 0.82 \\Rightarrow d = 3900\\, {\\rm km}.\n",
    "$$\n",
    "\n",
    "Distance between New York City and Mexico City:\n",
    "$$\n",
    "\\cos \\theta = \\cos \\left( 41^\\circ \\right) \\cos \\left( 19^\\circ \\right) \\cos \\left( 118^\\circ - 99^\\circ \\right) + \\sin \\left( 41^\\circ \\right) \\sin \\left( 19^\\circ \\right) = 0.82 \\Rightarrow d = 3000\\, {\\rm km}.\n",
    "$$\n",
    "\n",
    "So Mexico City is a little closer to New York City."
   ]
  },
  {
   "cell_type": "markdown",
   "id": "15f07aeb",
   "metadata": {},
   "source": [
    "### 3."
   ]
  },
  {
   "cell_type": "markdown",
   "id": "b380ed37",
   "metadata": {},
   "source": [
    "The velocity oscillations are due to Earth's motion relative to the stars. Something traveling in a circle of radius $a$ and with period $P$ has a velocity \n",
    "$$\n",
    "\\upsilon = \\frac{2\\pi a}{P}.\n",
    "$$\n",
    "\n",
    "The period of Earth's orbit is $1\\,{\\rm year} \\approx \\pi\\times10^7\\,{\\rm s}$. So we can solve for the radius\n",
    "$$\n",
    "a = \\frac{\\upsilon P}{2\\pi} \\approx \\frac{\\left( 29.617 \\pm 0.057\\,{\\rm km\\ s^{-1}}\\right) \\left( \\pi\\times10^7\\, {\\rm s}\\right) }{2 \\pi} = \\boxed{ \\left( 15.0 \\pm 0.0285 \\right) \\times10^7\\,{\\rm km} }.\n",
    "$$\n",
    "\n",
    "The currently accepted value is $1\\, {\\rm AU} = 1.496\\times10^8\\,{\\rm km}$, which agrees to within the uncertainties  with our estimate."
   ]
  },
  {
   "cell_type": "markdown",
   "id": "ef3117be",
   "metadata": {},
   "source": [
    "### 4."
   ]
  },
  {
   "cell_type": "markdown",
   "id": "6a545df8",
   "metadata": {},
   "source": [
    "Declination $\\delta$ is the position of an object measured along the north direction, while right ascension $\\alpha$ is measured along the east direction. So we can "
   ]
  }
 ],
 "metadata": {
  "kernelspec": {
   "display_name": "Python 3 (ipykernel)",
   "language": "python",
   "name": "python3"
  },
  "language_info": {
   "codemirror_mode": {
    "name": "ipython",
    "version": 3
   },
   "file_extension": ".py",
   "mimetype": "text/x-python",
   "name": "python",
   "nbconvert_exporter": "python",
   "pygments_lexer": "ipython3",
   "version": "3.8.8"
  }
 },
 "nbformat": 4,
 "nbformat_minor": 5
}
