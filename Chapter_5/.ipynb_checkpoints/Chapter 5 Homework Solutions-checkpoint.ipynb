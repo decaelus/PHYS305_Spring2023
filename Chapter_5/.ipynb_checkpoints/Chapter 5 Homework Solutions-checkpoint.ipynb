{
 "cells": [
  {
   "cell_type": "markdown",
   "id": "bc1300b4",
   "metadata": {},
   "source": [
    "### 1."
   ]
  },
  {
   "cell_type": "markdown",
   "id": "f830fabd",
   "metadata": {},
   "source": [
    "We can relate the path length before reflection $s_1$ and the path length after reflection $s_2$ to the total path length:\n",
    "$$\n",
    "s = s_1 + s_2 = \\frac{x}{\\sin \\theta_1} + \\frac{x_0 - x}{\\sin \\theta_2}.\n",
    "$$\n",
    "\n",
    "Chromey suggests setting $\\frac{ds}{dx} = 0$ to find an extremum in the length. This constraint involves Fermat's principle since the index of refraction along both lengths is the same, and therefore the speed of light is the same. If the indices of refraction were different (i.e., as in problem 2), then the relationship between $\\theta_1$ and $\\theta_2$ would explicitly involve the indices.\n",
    "\n",
    "$$\n",
    "\\frac{ds}{dx} = \\frac{1}{\\sin \\theta_1} - \\frac{1}{\\sin \\theta_2} = 0 \\Rightarrow \\boxed{ \\sin \\theta_1 = \\sin \\theta_2 }.\n",
    "$$"
   ]
  },
  {
   "cell_type": "markdown",
   "id": "101a75bb",
   "metadata": {},
   "source": [
    "### 2."
   ]
  },
  {
   "cell_type": "markdown",
   "id": "ec3b587d",
   "metadata": {},
   "source": [
    "For a fixed vertical distance $y$, the path length through the first medium $s_1$ is\n",
    "$$\n",
    "s_1 = \\sqrt{x^2 + y^2}.\n",
    "$$\n",
    "Similarly for the length through the second medium $s_2$:\n",
    "$$\n",
    "s_2 = \\sqrt{\\left( X_0 - x \\right)^2 + y_2^2}.\n",
    "$$"
   ]
  },
  {
   "cell_type": "markdown",
   "id": "1d319dce",
   "metadata": {},
   "source": [
    "The velocity through the first medium is $v_1 = c/n_1$ and through the second $v_2 = c/n_2$. Therefore the total time $t$ to traverse both media is\n",
    "$$\n",
    "t = \\frac{s_1}{v_1} + \\frac{s_2}{v_2} = \\frac{n_1 \\sqrt{x^2 + y^2}}{c} + \\frac{n_2 \\sqrt{\\left( X_0 - x \\right)^2 + y_2^2}}{c}.\n",
    "$$"
   ]
  },
  {
   "cell_type": "markdown",
   "id": "44b67f06",
   "metadata": {},
   "source": [
    "As suggested by the problem, let's find the relationship that satisfies $\\frac{dt}{dx} = 0$:\n",
    "$$\n",
    "0 = \\frac{n_1 x}{c\\sqrt{x^2 + y^2}} - \\frac{n_2 \\left( X_0 - x \\right)}{c\\sqrt{\\left( X_0 - x \\right)^2 + y_2^2}}.\n",
    "$$"
   ]
  },
  {
   "cell_type": "markdown",
   "id": "0e6a9527",
   "metadata": {},
   "source": [
    "We can multiply both sides by $c$ and re-arrange:\n",
    "$$\n",
    "\\frac{n_1 x}{\\sqrt{x^2 + y^2}} = \\frac{n_2 \\left( X_0 - x \\right)}{\\sqrt{\\left( X_0 - x \\right)^2 + y_2^2}}.\n",
    "$$"
   ]
  },
  {
   "cell_type": "markdown",
   "id": "41723531",
   "metadata": {},
   "source": [
    "And we can see that $\\sin \\theta_1 = \\frac{x}{\\sqrt{x^2 + y^2}}$, while $\\sin \\theta_2 = \\frac{\\left( X_0 - x \\right)}{c\\sqrt{\\left( X_0 - x \\right)^2 + y_2^2}}$, giving\n",
    "$$\n",
    "\\boxed{ n_1 \\sin \\theta_1 = n_2 \\sin \\theta_2 }.\n",
    "$$"
   ]
  },
  {
   "cell_type": "markdown",
   "id": "d2240774",
   "metadata": {},
   "source": [
    "### 3."
   ]
  },
  {
   "cell_type": "markdown",
   "id": "44365995",
   "metadata": {},
   "source": [
    "$$\n",
    "z_c = d + z^+\n",
    "$$\n",
    "\n",
    "Eqn 5.18:\n",
    "$$\n",
    "P = \\frac{1}{f} = P_{12} + P_{23} - \\frac{d}{n}P_{12}P_{23}\n",
    "$$\n",
    "\n",
    "with $P_{12} = \\left( n - 1 \\right)/R_{12}$ and $P_{23} = \\left( 1 - n \\right)/R_{23}$.\n",
    "\n",
    "Eqn 5.20:\n",
    "$$\n",
    "z^+ = f \\left( 1 - \\frac{d}{n f_2} \\right)\n",
    "$$\n",
    "\n",
    "Eqn 5.21 for thin lenses:\n",
    "$$\n",
    "P = P_{12} + P_{23} = \\left( n - 1 \\right) \\left( \\frac{1}{R_{12}} - \\frac{1}{R_{23}} \\right) = \\frac{1}{f} = \\frac{1}{s_2} - \\frac{1}{s_1}\n",
    "$$\n",
    "\n",
    "A flat lens has the equivalent of an infinite radius, so $R_{23} \\rightarrow \\infty$, meaning, for our lens L1\n",
    "$$\n",
    "P = \\frac{n - 1}{R_1} = \\frac{1}{f_1}\n",
    "$$\n",
    "\n",
    "Eqn 5.22:\n",
    "$$\n",
    "P = \\frac{1}{f} = P_1 + P_2 - dP_1 P_2\n",
    "$$\n",
    "\n",
    "$$\n",
    "P_1 = \\frac{1}{f_1}\\\\\n",
    "P_2 = \\frac{1}{f_2}\\\\\n",
    "\\Rightarrow f = \\left( \\frac{1}{f_1} + \\frac{1}{f_2} - d\\frac{1}{f_1 f_2}\\right)^{-1} = \\left( \\frac{1}{1.0\\,{\\rm m}} - \\frac{1}{0.6\\,{\\rm m}} + \\left( \\frac{0.5\\,{\\rm m}}{\\left( 1.0\\,{\\rm m} \\right) \\left( 0.6\\,{\\rm m} \\right)} \\right) \\right)^{-1} = \\boxed{ 6.0\\,{\\rm m} }.\n",
    "$$\n",
    "\n",
    "For the $z^+$ equation, we're told in the chapter to consider $n = 1$ when considering multiple lenses, so f \n",
    "$$\n",
    "z^+ = f \\left( 1 - \\frac{d}{f_2} \\right) = \\left( 6.0\\,{\\rm m} \\right) \\left( 1 -\\left( \\frac{0.5\\,{\\rm m}}{0.6\\,{\\rm m}} \\right) \\right).\n",
    "$$"
   ]
  },
  {
   "cell_type": "markdown",
   "id": "636ecf77",
   "metadata": {},
   "source": [
    "### 7."
   ]
  },
  {
   "cell_type": "markdown",
   "id": "28e66a52",
   "metadata": {},
   "source": [
    "We can start by calculating the index of refraction at each wavelength $\\lambda$."
   ]
  },
  {
   "cell_type": "markdown",
   "id": "5e5b4e8f",
   "metadata": {},
   "source": [
    "At $\\lambda = 350\\,{\\rm nm}$, $n = 1.52 + \\left( 0.00436 \\,{\\rm \\mu m}^2 \\right) \\left(0.35\\,{\\rm \\mu m}\\right)^{-2} = 1.56$."
   ]
  },
  {
   "cell_type": "markdown",
   "id": "cc298ac8",
   "metadata": {},
   "source": [
    "At $\\lambda = 600\\,{\\rm nm}$, $n = 1.52 + \\left( 0.00436 \\,{\\rm \\mu m}^2 \\right) \\left(0.6\\,{\\rm \\mu m}\\right)^{-2} = 1.53$."
   ]
  },
  {
   "cell_type": "markdown",
   "id": "2f9c0996",
   "metadata": {},
   "source": [
    "Next, we can use Equation 5.26 (p. 13) to calculate the angle of minimum deflection $\\alpha$ for each wavelength."
   ]
  },
  {
   "cell_type": "markdown",
   "id": "03bcec04",
   "metadata": {},
   "source": [
    "At minimum deflection, $\\alpha = \\theta_0$, and\n",
    "$$\n",
    "\\alpha = \\theta_0 = 2\\sin^{-1} \\left( n \\sin \\left( A/2 \\right) \\right) - A,\n",
    "$$"
   ]
  },
  {
   "cell_type": "markdown",
   "id": "35645f87",
   "metadata": {},
   "source": [
    "For $\\lambda = 350\\,{\\rm nm}$,\n",
    "$$\n",
    "\\theta_0 = 2 \\sin^{-1} \\left( 1.56 \\sin \\left( 15^\\circ \\right) \\right) - 30^\\circ = 17.6^\\circ,\n",
    "$$\n",
    "\n",
    "and for $\\lambda = 600\\,{\\rm nm}$,\n",
    "$$\n",
    "\\theta_0 = 2 \\sin^{-1} \\left( 1.53 \\sin \\left( 15^\\circ \\right) \\right) - 30^\\circ = 16.7^\\circ.\n",
    "$$"
   ]
  },
  {
   "cell_type": "markdown",
   "id": "5ba3eb64",
   "metadata": {},
   "source": [
    "We can roughly estimate $d\\theta/d\\lambda$ as \n",
    "$$\n",
    "\\frac{d\\theta}{d\\lambda} \\approx \\frac{\\Delta \\theta_0}{\\Delta \\lambda} = \\frac{16.7^\\circ - 17.6^\\circ}{600\\,{\\rm nm} - 350\\,{\\rm nm}} = -0.0628{\\rm \\mu m}^{-1}\n",
    "$$"
   ]
  },
  {
   "cell_type": "markdown",
   "id": "1f4c7f37",
   "metadata": {},
   "source": [
    "Next, let's use Eqn 5.29 to estimate deflections at each wavelength. We'll need first to evaluate $g$ at $\\alpha$. Strictly, we'd need to evaluate it at each value of $\\alpha$, but they are both so close, let's just take one value:\n",
    "$$\n",
    "g = -4 \\left( 0.00436\\,{\\rm \\mu m}^2 \\right) \\frac{\\sin \\left( 30^\\circ/2 \\right)}{\\cos \\left( 17^\\circ \\right)} = 0.00459\\,{\\rm \\mu m}^2\\\\\n",
    "$$"
   ]
  },
  {
   "cell_type": "markdown",
   "id": "61417681",
   "metadata": {},
   "source": [
    "For $\\lambda = 600\\,{\\rm nm}$,\n",
    "$$\n",
    "\\frac{\\partial \\theta}{\\partial \\lambda} = \\frac{0.00459\\,{\\rm \\mu m}^2}{\\left( 0.6\\,{\\rm \\mu m}\\right)^3} = 0.02.\n",
    "$$"
   ]
  },
  {
   "cell_type": "markdown",
   "id": "8344b672",
   "metadata": {},
   "source": [
    "For $\\lambda = 350\\,{\\rm nm}$,\n",
    "$$\n",
    "\\frac{\\partial \\theta}{\\partial \\lambda} = \\frac{0.00459\\,{\\rm \\mu m}^2}{\\left( 0.35\\,{\\rm \\mu m}\\right)^3} = 0.11.\n",
    "$$"
   ]
  },
  {
   "cell_type": "markdown",
   "id": "0f0cd8dd",
   "metadata": {},
   "source": [
    "Taking the average: $0.5\\left( 0.02 + 0.11 \\right) = 0.064\\,{\\rm \\mu m}^{−1}$, which is just about $−0.0628\\,{\\rm \\mu m}^{−1}$."
   ]
  },
  {
   "cell_type": "markdown",
   "id": "3b72ee80",
   "metadata": {},
   "source": [
    "### 12."
   ]
  },
  {
   "cell_type": "markdown",
   "id": "2949aec9",
   "metadata": {},
   "source": [
    "The diffraction limit $\\alpha$ for a telescope of diameter $D$ observing in a wavelength $\\lambda$ is given by Equation 5.37:\n",
    "$$\n",
    "\\alpha = \\frac{1.22\\ \\lambda}{D}.\n",
    "$$\n",
    "\n",
    "Hubble has $D = 2.4 \\,{\\rm m}$, so at $\\lambda = 300\\, {\\rm nm}$, $\\alpha = \\frac{1.22 \\left( 300\\times10^{-9}\\, {\\rm m}\\right)}{2.4 \\,{\\rm m}} = 0.15\\,{\\rm \\mu radians} = 31\\,{\\rm mas}$. At $\\lambda = 2.0\\, {\\rm \\mu m}$, $\\alpha = \\frac{1.22 \\left( 2.0\\times10^{-6}\\,{\\rm m}\\right)}{2.4 \\,{\\rm m}} = 1.0\\mu{\\rm radians} = 0.2\\,{\\rm arcsecs}$.\n",
    "\n",
    "Your pupil is about $4\\, {\\rm mm}$ in diameter, so a $\\lambda = 0.5\\,{\\rm \\mu m}$, $\\alpha = \\frac{1.22 \\left( 4\\times10^{-3}\\, {\\rm m}\\right)}{0.5\\times10^{-6} \\,{\\rm m}} = 150\\,{\\rm \\mu radians} = 30\\,{\\rm arcsecs}$.\n",
    "\n",
    "A space telescope with $D = 8\\,{\\rm m}$ is $8/2.4 = 3.3$ times larger, so at the same wavelength ($2.0\\, {\\rm \\mu m}$), it will have three times better angular resolution than Hubble.\n",
    "\n",
    "A 30-m telescope is 12.5 times larger than Hubble and so would have 12.5-times the angular resolution. Of course, such a telescope on the ground would have to contend with atmospheric turbulence, which would significantly degrade its effective resolution."
   ]
  }
 ],
 "metadata": {
  "kernelspec": {
   "display_name": "Python 3 (ipykernel)",
   "language": "python",
   "name": "python3"
  },
  "language_info": {
   "codemirror_mode": {
    "name": "ipython",
    "version": 3
   },
   "file_extension": ".py",
   "mimetype": "text/x-python",
   "name": "python",
   "nbconvert_exporter": "python",
   "pygments_lexer": "ipython3",
   "version": "3.8.8"
  }
 },
 "nbformat": 4,
 "nbformat_minor": 5
}
