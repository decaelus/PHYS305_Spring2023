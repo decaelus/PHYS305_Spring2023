{
 "cells": [
  {
   "cell_type": "markdown",
   "id": "bc1300b4",
   "metadata": {},
   "source": [
    "### 1."
   ]
  },
  {
   "cell_type": "markdown",
   "id": "f830fabd",
   "metadata": {},
   "source": [
    "We can relate the path length before reflection $s_1$ and the path length after reflection $s_2$ to the total path length:\n",
    "$$\n",
    "s = s_1 + s_2 = \\frac{x}{\\sin \\theta_1} + \\frac{x_0 - x}{\\sin \\theta_2}.\n",
    "$$\n",
    "\n",
    "Chromey suggests setting $\\frac{ds}{dx} = 0$ to find an extremum in the length. This constraint involves Fermat's principle since the index of refraction along both lengths is the same, and therefore the speed of light is the same. If the indices of refraction were different (i.e., as in problem 2), then the relationship between $\\theta_1$ and $\\theta_2$ would explicitly involve the indices.\n",
    "\n",
    "$$\n",
    "\\frac{ds}{dx} = \\frac{1}{\\sin \\theta_1} - \\frac{1}{\\sin \\theta_2} = 0 \\Rightarrow \\boxed{ \\sin \\theta_1 = \\sin \\theta_2 }.\n",
    "$$"
   ]
  },
  {
   "cell_type": "markdown",
   "id": "ecafe293",
   "metadata": {},
   "source": [
    "### 2."
   ]
  },
  {
   "cell_type": "markdown",
   "id": "d78fb148",
   "metadata": {},
   "source": [
    "For a fixed vertical distance $y$, the path length through the first medium $s_1$ is\n",
    "$$\n",
    "s_1 = \\sqrt{x^2 + y^2}.\n",
    "$$\n",
    "Similarly for the length through the second medium $s_2$:\n",
    "$$\n",
    "s_2 = \\sqrt{\\left( X_0 - x \\right)^2 + y_2^2}.\n",
    "$$"
   ]
  },
  {
   "cell_type": "markdown",
   "id": "580f01fd",
   "metadata": {},
   "source": [
    "The velocity through the first medium is $v_1 = c/n_1$ and through the second $v_2 = c/n_2$. Therefore the total time $t$ to traverse both media is\n",
    "$$\n",
    "t = \\frac{s_1}{v_1} + \\frac{s_2}{v_2} = \\frac{n_1 \\sqrt{x^2 + y^2}}{c} + \\frac{n_2 \\sqrt{\\left( X_0 - x \\right)^2 + y_2^2}}{c}.\n",
    "$$"
   ]
  },
  {
   "cell_type": "markdown",
   "id": "8c20bee5",
   "metadata": {},
   "source": [
    "As suggested by the problem, let's find the relationship that satisfies $\\frac{dt}{dx} = 0$:\n",
    "$$\n",
    "0 = \\frac{n_1 x}{c\\sqrt{x^2 + y^2}} - \\frac{n_2 \\left( X_0 - x \\right)}{c\\sqrt{\\left( X_0 - x \\right)^2 + y_2^2}}.\n",
    "$$"
   ]
  },
  {
   "cell_type": "markdown",
   "id": "6b03e20c",
   "metadata": {},
   "source": [
    "We can multiply both sides by $c$ and re-arrange:\n",
    "$$\n",
    "\\frac{n_1 x}{\\sqrt{x^2 + y^2}} = \\frac{n_2 \\left( X_0 - x \\right)}{\\sqrt{\\left( X_0 - x \\right)^2 + y_2^2}}.\n",
    "$$"
   ]
  },
  {
   "cell_type": "markdown",
   "id": "71eb2ae5",
   "metadata": {},
   "source": [
    "And we can see that $\\sin \\theta_1 = \\frac{x}{\\sqrt{x^2 + y^2}}$, while $\\sin \\theta_2 = \\frac{\\left( X_0 - x \\right)}{c\\sqrt{\\left( X_0 - x \\right)^2 + y_2^2}}$, giving\n",
    "$$\n",
    "\\boxed{ n_1 \\sin \\theta_1 = n_2 \\sin \\theta_2 }.\n",
    "$$"
   ]
  },
  {
   "cell_type": "markdown",
   "id": "3b72ee80",
   "metadata": {},
   "source": [
    "### 12."
   ]
  },
  {
   "cell_type": "markdown",
   "id": "2949aec9",
   "metadata": {},
   "source": [
    "The diffraction limit $\\alpha$ for a telescope of diameter $D$ observing in a wavelength $\\lambda$ is given by Equation 5.37:\n",
    "$$\n",
    "\\alpha = \\frac{1.22\\ \\lambda}{D}.\n",
    "$$\n",
    "\n",
    "Hubble has $D = 2.4 \\,{\\rm m}$, so at $\\lambda = 300\\, {\\rm nm}$, $\\alpha = \\frac{1.22 \\left( 300\\times10^{-9}\\, {\\rm m}\\right)}{2.4 \\,{\\rm m}} = 0.15\\,{\\rm \\mu radians} = 31\\,{\\rm mas}$. At $\\lambda = 2.0\\, {\\rm \\mu m}$, $\\alpha = \\frac{1.22 \\left( 2.0\\times10^{-6}\\,{\\rm m}\\right)}{2.4 \\,{\\rm m}} = 1.0\\mu{\\rm radians} = 0.2\\,{\\rm arcsecs}$.\n",
    "\n",
    "Your pupil is about $4\\, {\\rm mm}$ in diameter, so a $\\lambda = 0.5\\,{\\rm \\mu m}$, $\\alpha = \\frac{1.22 \\left( 4\\times10^{-3}\\, {\\rm m}\\right)}{0.5\\times10^{-6} \\,{\\rm m}} = 150\\,{\\rm \\mu radians} = 30\\,{\\rm arcsecs}$.\n",
    "\n",
    "A space telescope with $D = 8\\,{\\rm m}$ is $8/2.4 = 3.3$ times larger, so at the same wavelength ($2.0\\, {\\rm \\mu m}$), it will have three times better angular resolution than Hubble.\n",
    "\n",
    "A 30-m telescope is 12.5 times larger than Hubble and so would have 12.5-times the angular resolution. Of course, such a telescope on the ground would have to contend with atmospheric turbulence, which would significantly degrade its effective resolution."
   ]
  }
 ],
 "metadata": {
  "kernelspec": {
   "display_name": "Python 3 (ipykernel)",
   "language": "python",
   "name": "python3"
  },
  "language_info": {
   "codemirror_mode": {
    "name": "ipython",
    "version": 3
   },
   "file_extension": ".py",
   "mimetype": "text/x-python",
   "name": "python",
   "nbconvert_exporter": "python",
   "pygments_lexer": "ipython3",
   "version": "3.8.8"
  }
 },
 "nbformat": 4,
 "nbformat_minor": 5
}
