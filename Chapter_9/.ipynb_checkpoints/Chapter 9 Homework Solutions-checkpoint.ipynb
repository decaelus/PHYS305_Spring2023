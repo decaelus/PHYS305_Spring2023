{
 "cells": [
  {
   "cell_type": "markdown",
   "id": "f947b8dd",
   "metadata": {},
   "source": [
    "### 9.1"
   ]
  },
  {
   "cell_type": "code",
   "execution_count": 19,
   "id": "cbc15614",
   "metadata": {},
   "outputs": [
    {
     "name": "stdout",
     "output_type": "stream",
     "text": [
      "c, b, a: \n",
      "[-1.20903434e-02  4.55822200e+02  2.04106946e+02]\n"
     ]
    },
    {
     "data": {
      "text/plain": [
       "[<matplotlib.lines.Line2D at 0x7fadc3078c70>]"
      ]
     },
     "execution_count": 19,
     "metadata": {},
     "output_type": "execute_result"
    },
    {
     "data": {
      "image/png": "[encoded data removed]",
      "text/plain": [
       "<Figure size 640x480 with 1 Axes>"
      ]
     },
     "metadata": {},
     "output_type": "display_data"
    }
   ],
   "source": [
    "## %matplotlib inline\n",
    "\n",
    "import numpy as np\n",
    "import matplotlib.pyplot as plt\n",
    "\n",
    "exptime = np.array([0., 1., 20., 40., 60., 80.])\n",
    "DN = np.array([0., 500., 9878., 18955., 26390., 37267.])\n",
    "\n",
    "plt.scatter(exptime, DN)\n",
    "coeffs = np.polyfit(exptime, DN, 2)\n",
    "coeffs[0] *= -1\n",
    "print(\"c, b, a: \")\n",
    "print(coeffs)\n",
    "plt.plot(exptime, np.polyval(coeffs, exptime))"
   ]
  },
  {
   "cell_type": "markdown",
   "id": "a1f3e639",
   "metadata": {},
   "source": [
    "### 9.2"
   ]
  },
  {
   "cell_type": "markdown",
   "id": "d556f0f0",
   "metadata": {},
   "source": [
    "We're given a magnitude difference between two stars, but all of the thinking we have in this chapter involves fluxes. So the first thing we need to do is convert the magnitude difference $\\Delta m$ into a relationship in terms of (incorrect) fluxes, $F_1^\\prime$ and $F_2^\\prime$ -- \"incorrect\" because they are impacted by the uncorrected non-linear response."
   ]
  },
  {
   "cell_type": "markdown",
   "id": "9a1c82b3",
   "metadata": {},
   "source": [
    "$$\n",
    "\\Delta m^\\prime = -2.5 \\log_{10} \\left( \\frac{F_1^\\prime}{F_2^\\prime} \\right) \\Rightarrow \\frac{F_2^\\prime}{F_1^\\prime} = 10^{\\Delta m/2.5} = 10^{1.25/2.5} = 3.16,\n",
    "$$\n",
    "meaning star 2 is *measured* to be 3.16 times brighter than star 1, but because of the non-linearity of our detector, the apparent flux for star 2 is incorrectly estimated."
   ]
  },
  {
   "cell_type": "markdown",
   "id": "35c3cfdb",
   "metadata": {},
   "source": [
    "We're told that star 2 produced a DN value of 30000, meaning star 1 produced a DN value of 10000. "
   ]
  },
  {
   "cell_type": "markdown",
   "id": "d64ac897",
   "metadata": {},
   "source": [
    "If $F_{1/2}$ is the *corrected* relative flux for star 1/2, then the corresponding output, i.e., data number ${\\rm DN}_{1/2}$ is given by Equation 9.23:\n",
    "$$\n",
    "{\\rm DN}_{1/2} = a + b \\left( F_{1/2} t \\right) + c \\left( F_{1/2} t\\right)^2,\n",
    "$$\n",
    "where $t$ is the exposure time (and we're assuming exposure times for both stars are the same, as indicated)."
   ]
  },
  {
   "cell_type": "markdown",
   "id": "b952aff6",
   "metadata": {},
   "source": [
    "We can use the quadratic equation to calculate $F_{1/2} t$:\n",
    "$$\n",
    "F_{1/2}t = \\frac{-b \\pm \\sqrt{b^2 - 4 \\left( a - {\\rm DN}_{1/2} \\right) c}}{2 \\left( 2 c \\right)}.\n",
    "$$"
   ]
  },
  {
   "cell_type": "markdown",
   "id": "fbf819d8",
   "metadata": {},
   "source": [
    "For star 2, we have\n",
    "$$\n",
    "F_2 t = \\frac{-456 \\pm \\sqrt{\\left( 456 \\right)^2 - 4 \\left( 204 - 30000 \\right) \\left( 0.012 \\right)}}{2 \\left( 0.012 \\right)} = 65.\n",
    "$$"
   ]
  },
  {
   "cell_type": "markdown",
   "id": "23ceeff1",
   "metadata": {},
   "source": [
    "For star 1,\n",
    "$$\n",
    "F_1 t = \\frac{-456 \\pm \\sqrt{\\left( 456 \\right)^2 - 4 \\left( 204 - 10000 \\right) \\left( 0.012 \\right)}}{2 \\left( 0.012 \\right)} = 21.\n",
    "$$"
   ]
  },
  {
   "cell_type": "markdown",
   "id": "8cfd130a",
   "metadata": {},
   "source": [
    "Therefore\n",
    "$$\n",
    "\\frac{F_2}{F_1} = 3.1.\n",
    "$$"
   ]
  },
  {
   "cell_type": "markdown",
   "id": "dad4576f",
   "metadata": {},
   "source": [
    "This result indicates that the actual flux of star 2 is only 3.1 times as large as the flux for star 1. This result is a little strange since the measured (incorrect) fluxes indicate star 2 is 3.16 times brighter than star 1. Something goofy in the data that Chromey have given us. Oh, well."
   ]
  },
  {
   "cell_type": "markdown",
   "id": "5bde070f",
   "metadata": {},
   "source": [
    "In any case, we can now estimate the correct relative magnitudes:\n",
    "$$\n",
    "\\Delta m = -2.5 \\log_{10} \\left( \\frac{F_1}{F_2} \\right) = -2.5 \\log_{10} \\left( 1/3.1 \\right) \\approx \\boxed{ 1.23 }.\n",
    "$$"
   ]
  }
 ],
 "metadata": {
  "kernelspec": {
   "display_name": "Python 3 (ipykernel)",
   "language": "python",
   "name": "python3"
  },
  "language_info": {
   "codemirror_mode": {
    "name": "ipython",
    "version": 3
   },
   "file_extension": ".py",
   "mimetype": "text/x-python",
   "name": "python",
   "nbconvert_exporter": "python",
   "pygments_lexer": "ipython3",
   "version": "3.8.8"
  }
 },
 "nbformat": 4,
 "nbformat_minor": 5
}
