{
 "cells": [
  {
   "cell_type": "markdown",
   "id": "f35aa55a",
   "metadata": {},
   "source": [
    "1. Astronomy primarily involves the study of celestial, i.e., extra-terrestrial phenomena, as informed by physics (and often by geology)."
   ]
  },
  {
   "cell_type": "markdown",
   "id": "e943c52e",
   "metadata": {},
   "source": [
    "2. (a) Photon energy $E$ is related to its wavelength $\\lambda$ as\n",
    "$$\n",
    "E = \\frac{hc}{\\lambda},\n",
    "$$\n",
    "where $h$ is Planck's constant ($\\approx 7 \\times 10^{-34}\\,{\\rm m^2\\ kg\\ s^{-1}}$) and $c$ is the speed of light ($\\approx 3\\times10^8\\,{\\rm m\\ s^{-1}}$).\n",
    "\n",
    "    We need to make sure we're using consistent units: $13.6\\,{\\rm eV} = 2\\times10^{-18}\\, {\\rm J}$.\n",
    "\n",
    "    So\n",
    "$$\n",
    "\\lambda = \\frac{\\left( 7 \\times 10^{-34}\\,{\\rm m^2\\ kg\\ s^{-1}} \\right) \\left( 3\\times10^8\\,{\\rm m\\ s^{-1}} \\right) }{2\\times10^{-18}\\, {\\rm J}} = \\boxed{ 10^{-8}\\, {\\rm m} = 0.1\\,{\\rm nm} },\n",
    "$$\n",
    "well into the UV."
   ]
  },
  {
   "cell_type": "markdown",
   "id": "ed847f31",
   "metadata": {},
   "source": [
    "2. (b) We can use Wein's law (Eqn 1.16):\n",
    "$$\n",
    "T \\approx \\frac{3\\times10^{-3}\\,{\\rm m\\ K}}{\\lambda_{\\rm max}} = \\frac{3\\times10^{-3}\\,{\\rm m\\ K}}{10^{-8}\\,{\\rm m}} = 3\\times10^{5}\\, {\\rm K}. \n",
    "$$\n",
    "O-stars are this hot."
   ]
  },
  {
   "cell_type": "markdown",
   "id": "f487c4dc",
   "metadata": {},
   "source": [
    "3. Eqn (1.12) tell us that integrating the per-wavelength monochromatic brightness $f_\\lambda$ over wavelength $\\lambda$ gives us a bolometric flux, which itself has units of ${\\rm W\\ m^{-2}}$. So \n",
    "\n",
    "$$\n",
    "{\\rm W\\ m^{-2}} = \\{ f_\\lambda \\lambda \\} = \\{ f_\\lambda \\}\\ {\\rm m } \\Rightarrow \\boxed{ \\{ f_\\lambda \\} = {\\rm W\\ m^{-3}} }.\n",
    "$$"
   ]
  },
  {
   "cell_type": "markdown",
   "id": "2fab1734",
   "metadata": {},
   "source": [
    "4. From Eqn 1.13, we have\n",
    "$$\n",
    "F(\\lambda_1, \\lambda_2) = \\int_{\\lambda_1}^{\\lambda_2} f_\\lambda\\ d\\lambda = \\int_{\\nu_2}^{\\nu_1} f_\\nu\\ d\\nu\n",
    "$$\n",
    "with $\\nu \\lambda = c$ (Eqn 1.2)\n",
    "\n",
    "    which gives\n",
    "$$\n",
    "d\\nu \\lambda + \\nu d\\lambda = 0 \\Rightarrow \\frac{d\\nu}{\\nu} = -\\frac{d\\lambda}{\\lambda}\n",
    "$$\n",
    "\n",
    "    If we take $\\lambda_1 = \\lambda$ and $\\lambda_2 = \\lambda + d\\lambda$, that also means $\\nu_1 = \\nu$ and $\\nu_2 = \\nu + d\\nu$, and so $d\\nu= -\\frac{\\nu}{\\lambda}\\ d\\lambda$.\n",
    "\n",
    "    The integrals from Eqn 1.13 become\n",
    "$$\n",
    "\\int_{\\lambda}^{\\lambda + d\\lambda} f_\\lambda\\ d\\lambda = \\int_{\\nu + d\\nu}^{\\nu} f_\\nu\\ d\\nu = -\\int_{\\nu(\\lambda) + d\\nu}^{\\nu} f_\\nu \\left( \\frac{\\nu}{\\lambda} \\right) d\\lambda = \\int_{\\nu}^{\\nu(\\lambda) + d\\nu} f_\\nu \\left( \\frac{\\nu}{\\lambda} \\right) d\\lambda.\n",
    "$$\n",
    "\n",
    "    In general,\n",
    "$$\n",
    "\\int_{y}^{y + dy} f(x)\\ dx = f(y)\\ dy\n",
    "$$\n",
    "\n",
    "$$\n",
    "f_\\lambda\\ d\\lambda = f_\\nu \\left( \\frac{\\nu}{\\lambda} \\right) d\\lambda\\\\\n",
    "\\Rightarrow \\boxed{ \\frac{f_\\lambda}{f_\\nu} = \\frac{\\nu}{\\lambda} }.\n",
    "$$"
   ]
  },
  {
   "cell_type": "markdown",
   "id": "3df92ed1",
   "metadata": {},
   "source": [
    "5. (a) Stellar eclipses occur when surface area of one star occults (blocks) surface are of another star. Of course, the area doing the blocking also emits light, with a flux (energy per time per area) given by the Stefan-Boltzmann, which scales with the temperature of the emitting surface. \n",
    "\n",
    "    If the area doing the blocking is darker (i.e., cooler) than the area being blocked, then more total light is hidden from view than if the area doing the blocking is brighter (i.e., hotter). Thus, the primary eclipse must correspond to the occultation of the hotter star, no matter the relative radii."
   ]
  },
  {
   "cell_type": "markdown",
   "id": "5d0ee00e",
   "metadata": {},
   "source": [
    "5. (b) Using the Stefan-Boltzmann law, we can calculate the total luminosity of each star $L_1$ and $L_2$ as \n",
    "$$\n",
    "L_1 = \\sigma T_1^4 4\\pi R^2\\\\\n",
    "L_2 = \\sigma T_2^4 4\\pi a^2.\n",
    "$$\n",
    "\n",
    "    Although the exact distance each star is from the Earth varies a little as they orbit one another, we can assume they are both always the same distance from Earth to a very high precision (typical orbital distances for stars are tens of astronomical units [$1\\, {\\rm AU} = 1.5\\times10^{8}\\, {\\rm km}$], while stars are lightyears from Earth [1 ly = $10^{13}\\, {\\rm km}$]).\n",
    "\n",
    "    So we'll take the distance to each star to be $d$, which lets us calculate the flux from each star:\n",
    "$$\n",
    "F_1 = \\sigma T_1^4 \\left( \\frac{R}{d} \\right)^2\\\\\n",
    "F_2 = \\sigma T_2^4 \\left( \\frac{a}{d} \\right)^2\n",
    "$$\n",
    "\n",
    "    When both stars are visible, we see total flux $F_{\\rm max} = F_1 + F_2 = \\sigma T_1^4 \\left( \\frac{R}{d} \\right)^2 + \\sigma T_2^4 \\left( \\frac{a}{d} \\right)^2 $. \n",
    "    \n",
    "    When the smaller star (with radius $a$ and temperature $T_2$) is eclipsed, it disappears completely from view, meaning we only see star 1 and flux $F_1$, giving:\n",
    "$$\n",
    "\\frac{F_1}{F_{\\rm max}} = \\frac{\\sigma T_1^4 \\left( \\frac{R}{d} \\right)^2}{\\sigma T_1^4 \\left( \\frac{R}{d} \\right)^2 + \\sigma T_2^4 \\left( \\frac{a}{d} \\right)^2 } = \\frac{1}{1 + \\left( \\frac{T_2}{T_1} \\right)^4 \\left( \\frac{a}{R} \\right)^2 } = \\boxed{ \\frac{1}{1 + b} }.\n",
    "$$\n",
    "\n",
    "    When the larger star (with radius $R$ and temperature $T_1$) is eclipsed, the portion of the larger star blocked out has area $A_{\\rm small} = \\pi a^2$, i.e., the surface area of the smaller star. So the luminosity seen from that occulted area is \n",
    "$$\n",
    "L_{\\rm small} = A_{\\rm small} \\sigma T_2^4 = \\pi a^2\\sigma T_2^4.\n",
    "$$\n",
    "\n",
    "    The rest of the larger star, however, remains unocculted, so it appears to shine with its original luminosity. This portion has an area $A_{\\rm big} = \\pi R^2 - \\pi a^2$ and therefore shines with luminosity:\n",
    "$$\n",
    "L_{\\rm big} = A_{\\rm big} \\sigma T_1^4 = \\pi \\left( R^2 - a^2 \\right) \\sigma T_1^4.\n",
    "$$\n",
    "\n",
    "    Scaling everything by distance to the system to convert to fluxes gives:\n",
    "$$\n",
    "\\frac{F_2}{F_{\\rm max}} = \\frac{a^2T_2^4 + \\left( R^2 - a^2 \\right) T_1^4}{T_1^4 R^2 + T_2^4 a^2} = \\frac{1 + \\left( \\frac{a}{R} \\right)^2 \\left( \\frac{T_2}{T_1} \\right)^4 - \\left( \\frac{a}{R} \\right)^2}{1 + \\left( \\frac{a}{R} \\right)^2 \\left( \\frac{T_2}{T_1} \\right)^4} = \\boxed{ 1 - \\frac{ \\left( \\frac{a}{R} \\right)^2 }{1 + b} }.\n",
    "$$\n",
    "\n",
    "    The reason for casting these eclipse signals in terms of ratios is that we can more easily measure the signals themselves and not the absolute radii or temperatures."
   ]
  },
  {
   "cell_type": "markdown",
   "id": "b10d32a0",
   "metadata": {},
   "source": [
    "6. From p. 23, $1\\, {\\rm Jy} = 10^{-26}\\, {\\rm J\\ s^{-1}\\ m^{-2}\\ Hz^{-1}}$\n",
    "\n",
    "    Using Eqn 1.4 relates photon energy $E$ to frequency $\\nu$:\n",
    "$$\n",
    "E = h \\nu,\n",
    "$$    \n",
    "where $h$ is Planck's constant ($7\\times10^{-34}\\, {\\rm m^2\\ kg\\ s^{-1}}$). So we can convert to energy:\n",
    "$$\n",
    "E = (7\\times10^{-34}\\, {\\rm m^2\\ kg\\ s^{-1}}) \\left( 10^6\\, {\\rm Hz} \\right) = 7\\times10^{-28}\\, {\\rm J}.\n",
    "$$\n",
    "\n",
    "    So $1\\, {\\rm Jy}$ at 1 MHz corresponds to $10^{-26}\\, {\\rm J\\ s^{-1}\\ m^{-2}\\ Hz^{-1}}/7\\times10^{-28}\\, {\\rm J} \\approx 14$ photons per square meter per second per Hz."
   ]
  },
  {
   "cell_type": "markdown",
   "id": "73a61d61",
   "metadata": {},
   "source": [
    "7. Eqn 1.22 says\n",
    "$$\n",
    "m = -2.5 \\log_{10} \\left( F \\right) + K,\n",
    "$$\n",
    "    where $\\log_{10}$ means log base 10.\n",
    "\n",
    "    Taking $F = 2.65\\times10^{-8}\\, {\\rm W\\ m^{-2}}$ and $m = 0$:\n",
    "$$\n",
    "0 = -2.5\\log_{10} \\left( 2.65\\times10^{-8}\\, {\\rm W\\ m^{-2}} \\right) + K\\\\\n",
    "\\Rightarrow \\boxed{ K = 2.5 \\log_{10} \\left( 2.65\\times10^{-8}\\, {\\rm W\\ m^{-2}} \\right) }.\n",
    "$$"
   ]
  },
  {
   "cell_type": "markdown",
   "id": "ae38b21e",
   "metadata": {},
   "source": [
    "8. (a) We can use Eqn 1.23:\n",
    "$$\n",
    "\\Delta m = m_1 - m_2 = -2.5\\log_{10}\\left( \\frac{F_1}{F_2} \\right) \\Rightarrow F_2 = F_1 \\times 10^{-\\Delta m/2.5}\n",
    "$$\n",
    "\n",
    "    We have $\\Delta m = 22.5 - 4.71 = 17.79$, and so:\n",
    "$$\n",
    "F_2 = \\left( 375\\, {\\rm Jy} \\right) \\times 10^{-17.79/2.5} = \\boxed{ 2.87\\times10^{-5}\\, {\\rm Jy} }.\n",
    "$$"
   ]
  },
  {
   "cell_type": "markdown",
   "id": "579a7451",
   "metadata": {},
   "source": [
    "8. (b) Eqn 1.13 reminds us that integrating the monochromatic over the B-band gives us an amount of energy crossing a unit area in a unit time. We turn that into a number of photons per area per time $n$ if we divide through by the monochromatic photon energy $E = h\\nu$. In other words,\n",
    "$$\n",
    "n = \\int_{\\nu_1}^{\\nu_2} \\left( \\frac{f_\\nu}{h \\nu} \\right) \\ d\\nu.\n",
    "$$ Let's assume $f_\\nu = {\\rm const.}$\n",
    "\n",
    "    We need to convert 440 nm into frequency: $\\nu = c/(440\\, {\\rm nm}) = 6.8\\times10^{14}\\, {\\rm Hz}$. The bandpass extends $6.8\\times10^{14}\\, {\\rm Hz} \\pm 2.5\\times10^{14}\\, {\\rm Hz}$.\n",
    "    \n",
    "    Let's do the integral:\n",
    "$$\n",
    "    \\int_{\\nu_1}^{\\nu_2} \\left( \\frac{f_\\nu}{h \\nu} \\right) \\ d\\nu = f_\\nu \\int_{\\nu_1}^{\\nu_2} \\left( \\frac{1}{h \\nu} \\right) \\ d\\nu = \\frac{f_\\nu}{h} \\ln\\left( \\frac{\\nu_2}{\\nu_1} \\right) = \\frac{\\left( 2.87\\times10^{-31}\\, {\\rm W\\ m^{-2}\\ Hz^{-1} } \\right) }{6.6\\times10^{-34}\\, {\\rm J\\ s}} \\ln \\left( \\frac{9.3}{4.3} \\right) \\approx 335\\, {\\rm photons\\ m^{-2}\\ s^{-1}}.\n",
    "$$\n",
    "\n",
    "    Multiplying by 100 seconds and 5 square meters gives 168 thousand photons."
   ]
  },
  {
   "cell_type": "markdown",
   "id": "f20b1d14",
   "metadata": {},
   "source": [
    "9. We can use Eqn 1.23:\n",
    "$$\n",
    "\\Delta m = -2.5 \\log_{10} \\left( \\frac{F_1}{F_2} \\right).\n",
    "$$\n",
    "\n",
    "    With two stars of equal brightness $F_2$, $F_1 = 2\\times F_1$, and\n",
    "$$\n",
    "\\Delta m = -2.5 \\log_{10} \\left( 2 \\right) = -0.75,\n",
    "$$\n",
    "    giving a combined magnitude $m_1 = m_2 + \\Delta m = 8.34 - 0.75 = \\boxed{ 7.59 }$."
   ]
  },
  {
   "cell_type": "markdown",
   "id": "8b8e1594",
   "metadata": {},
   "source": [
    "10. (a) As illustrated in problem 9, magnitudes don't add linearly; fluxes do. So we need to convert the apparent magnitude per solid angle $b$ into an infinitesimal flux $dF$ from each infinitesimal solid angle $d\\Omega$ using Eqn 1.23 (using an arbitrary normalizing flux $F_0$):\n",
    "$$\n",
    "\\frac{dF}{F_0} = 10^{-b/2.5} d\\Omega.\n",
    "$$\n",
    "    \n",
    "    Integrating over the full solid angle $\\Omega$ gives the normalized flux from the whole nebula:\n",
    "$$\n",
    "\\frac{F}{F_0} = 10^{-b/2.5} \\Omega.\n",
    "$$\n",
    "\n",
    "    Then we can apply Eqn 1.23 again to work out the total magnitude:\n",
    "$$\n",
    "m = -2.5 \\log_{10} \\left( \\frac{F}{F_0} \\right) = -2.5 \\log_{10} \\left( 10^{-b/2.5} \\Omega \\right) = b - 2.5 \\log_{10} \\Omega = 17.77\\, {\\rm arcsec}^{-2} - 2.5 \\log_{10} \\left( 144\\, {\\rm arcsec}^2 \\right) = \\boxed{12.37}.\n",
    "$$"
   ]
  },
  {
   "cell_type": "markdown",
   "id": "5ab98509",
   "metadata": {},
   "source": [
    "10. (b) Take the original solid angle at distance $r_0$ as $\\Omega_0$ and the new at $r_1$ as $\\Omega_1$. The physical area $A$ is the same at both distances, so:\n",
    "$$\n",
    "A = \\Omega_0 r_0^2 = \\Omega_1 r_1^2 \\Rightarrow \\Omega_1 = \\Omega_0 \\left( r_0 / r_1 \\right)^2 = \\boxed{\\Omega_0/4}.\n",
    "$$\n",
    "\n",
    "    Reducing the solid angle, we can use our previous solution to calculate the new apparent magnitude:\n",
    "$$\n",
    "17.77\\, {\\rm arcsec}^{-2} - 2.5 \\log_{10} \\left( 72\\, {\\rm arcsec}^2 \\right) = \\boxed{13.13}.\n",
    "$$\n",
    "\n",
    "    To estimate the surface brightness $\\sigma$, we can use Eqn 1.9. The apparent flux $F$ drops by a factor of four just as the solid angle. These factors of four cancel out, so $\\sigma$ remains the same, in spite of the change in distance."
   ]
  },
  {
   "cell_type": "markdown",
   "id": "943b2730",
   "metadata": {},
   "source": [
    "11. At 100 times its original distance, the actual solid angle drops by a factor of $100^2 = 10000$, down to $144\\, {\\rm arcsec}^2 = 0.0144\\, {\\rm arcsec}^2$, smaller than the resolving power of the telescope, $\\left( 1.2\\, {\\rm arcsec} \\right)^2 = \\boxed{1.44 \\, {\\rm arcsec}^2}$.\n",
    "\n",
    "    Unlike the last problem, the apparent flux drops by a factor 10,000, but the apparent solid angle can't drop below the telescope's resolving power. In terms of the original surface flux $F_0$, the new surface flux $F = F_0/10000$. The new apparent solid angle $\\Omega$ is $1.44 \\, {\\rm arcsec}^2/144 \\, {\\rm arcsec}^2 = 100$ times smaller. Thus, in terms of the original surface brightness $s_0$, the new surface brightness is \n",
    "    $$\n",
    "    \\frac{s}{s_0} = \\left( \\frac{F}{F_0} \\right) \\left( \\frac{\\Omega_0}{\\Omega} \\right) = \\left( \\frac{1}{10000} \\right) \\left( 100 \\right) = \\boxed{1/100}.\n",
    "    $$"
   ]
  },
  {
   "cell_type": "markdown",
   "id": "ed8dbf50",
   "metadata": {},
   "source": [
    "12. (a) We can use Eqn 1.25:\n",
    "$$\n",
    "m - M = 5 \\log_{10} r - 5 \\Rightarrow r = 10^{\\left(m - M\\right)/5 + 1}\\, {\\rm pc} = 10^{\\left(13.25 + 19.60\\right)/5 + 1}\\, {\\rm pc} = \\boxed{ 37\\,{\\rm Mpc} }.\n",
    "$$"
   ]
  },
  {
   "cell_type": "markdown",
   "id": "6fd8a4aa",
   "metadata": {},
   "source": [
    "12. (b) If the dust obscures the nebula, that means it increases its observed apparent magnitude. That means the actual apparent magnitude should not be 13.25 but 11.75. With this new apparent magnitude, we can re-calculate the distance:\n",
    "$$\n",
    "10^{\\left(11.75 + 19.60\\right)/5 + 1}\\, {\\rm pc} = \\boxed{ 19\\,{\\rm Mpc} }.\n",
    "$$"
   ]
  },
  {
   "cell_type": "markdown",
   "id": "7b8dad42",
   "metadata": {},
   "source": [
    "13. Eqn 1.6: $F = \\frac{L}{4\\pi r^2}$\n",
    "\n",
    "    Eqn 1.25: $m - M = 5\\log_{10} r - 5$\n",
    "    \n",
    "    The absolute magnitude is related to the flux that would be observed if the object were 10 pc from the observer:\n",
    "    $$\n",
    "    F_{\\rm 10\\ pc} = \\frac{L}{4 \\pi \\left( 10\\,{\\rm pc} \\right)^2},\n",
    "    $$\n",
    "    \n",
    "    giving\n",
    "    $$\n",
    "    M \\propto -2.5 \\log_{10} F_{\\rm 10\\ pc}\n",
    "    $$\n",
    "    \n",
    "    We can then calculate $m - M$:\n",
    "    $$\n",
    "    m - M = -2.5 \\log_{10} F + 2.5 \\log_{10} F_{\\rm 10\\ pc} = -2.5 \\log_{10} \\left( \\frac{L}{4\\pi r^2} \\right) + 2.5 \\log_{10} \\left( \\frac{L}{4\\pi \\left( 10\\,{\\rm pc} \\right)^2 } \\right).\n",
    "    $$\n",
    "    \n",
    "    Recall the rules about adding and subtract logarithms:\n",
    "    $$\n",
    "    \\log a + \\log b = \\log\\left( a*b \\right)\\\\\n",
    "    \\log a - \\log b = \\log\\left( \\frac{a}{b} \\right).\n",
    "    $$\n",
    "    \n",
    "    So\n",
    "    $$\n",
    "    m - M = -2.5 \\log_{10} \\left( \\frac{\\left( 10\\,{\\rm pc} \\right)^2}{r^2} \\right).\n",
    "    $$\n",
    "    \n",
    "    Then recall the rule about taking the logarithm of something raised to a power:\n",
    "    $$\n",
    "    \\log b^p = p \\log b.\n",
    "    $$\n",
    "    \n",
    "    So\n",
    "    $$\n",
    "    m - M = -2.5 \\log_{10} \\left( \\frac{\\left( 10\\,{\\rm pc} \\right)^2}{r^2} \\right) = -5 \\log_{10} \\left( \\frac{ 10\\,{\\rm pc}}{r} \\right) = 5 \\log_{10} \\left( \\frac{r}{10\\,{\\rm pc}} \\right) = 5 \\log_{10} r({\\rm in\\ pc}) - 5 \\log_{10} \\left(10\\,{\\rm pc}\\right) = \\boxed{5 \\log_{10} r({\\rm in\\ pc}) - 5}.\n",
    "    $$"
   ]
  },
  {
   "cell_type": "markdown",
   "id": "027c7ad8",
   "metadata": {},
   "source": [
    "14. Let's start with defining some variables:\n",
    "    $$\n",
    "    \\Delta m = 2.5 \\log_{10} \\left( \\frac{F + \\Delta F}{F} \\right)\n",
    "    $$\n",
    "\n",
    "    Using these variables and re-arranging the equation gives\n",
    "    $$\n",
    "    \\left( \\frac{F + \\Delta F}{F} \\right) = 10^{\\Delta m/2.5}.\n",
    "    $$\n",
    "    \n",
    "    Recall how Maclaurin expansions work:\n",
    "    $$\n",
    "    f(\\Delta x) \\approx f(0) + \\left(\\frac{df}{dx}\\right)_{0}\\Delta x,\n",
    "    $$\n",
    "    where $\\left(df/dx\\right)|_{0}$ is the $x$-derivative of $f$ evaluated at $x=0$, and $\\Delta x$ is small.\n",
    "    \n",
    "    Thinking about the derivative for our function:\n",
    "    $$\n",
    "    \\frac{d}{dx}\\left( 10^x \\right) = \\ln 10\\ 10^x,\n",
    "    $$\n",
    "    where $\\ln 10$ is the natural log of 10 (as opposed to $\\log_{10}$ which is log base 10).\n",
    "    \n",
    "    So\n",
    "    $$\n",
    "    10^{-\\Delta m/2.5} \\approx 10^0 + \\ln 10\\ \\left(\\frac{\\Delta m}{2.5}\\right) \\approx \\frac{F + \\Delta F}{F}\\\\\n",
    "    \\Rightarrow \\ln 10\\ \\left(\\frac{\\Delta m}{2.5}\\right) \\approx \\frac{\\Delta F}{F}.\n",
    "    $$\n",
    "    \n",
    "    $\\ln 10 \\approx 2.3 \\approx 2.5$, so \n",
    "    $$\n",
    "    \\boxed{\\Delta m \\approx \\frac{\\Delta F}{F}}.\n",
    "    $$"
   ]
  },
  {
   "cell_type": "markdown",
   "id": "5f62af23",
   "metadata": {},
   "source": [
    "15. I'll use python to do the photometry, as shown below."
   ]
  },
  {
   "cell_type": "code",
   "execution_count": 2,
   "id": "44b238dd",
   "metadata": {},
   "outputs": [
    {
     "data": {
      "text/plain": [
       "<matplotlib.image.AxesImage at 0x7fda905a3af0>"
      ]
     },
     "execution_count": 2,
     "metadata": {},
     "output_type": "execute_result"
    },
    {
     "data": {
      "image/png": "[encoded data removed]",
      "text/plain": [
       "<Figure size 640x480 with 1 Axes>"
      ]
     },
     "metadata": {},
     "output_type": "display_data"
    }
   ],
   "source": [
    "%matplotlib inline\n",
    "\n",
    "import numpy as np\n",
    "import matplotlib.pyplot as plt\n",
    "\n",
    "filename = \"Chromey_data.csv\"\n",
    "data = np.genfromtxt(filename, delimiter=',')\n",
    "\n",
    "plt.imshow(data)"
   ]
  },
  {
   "cell_type": "markdown",
   "id": "0bfaee87",
   "metadata": {},
   "source": [
    "There are a variety of ways to conduct the photometric analysis, but for this analysis, we'll do things via eyeball. Later in the semester, we'll learn how to do things more accurately.\n",
    "\n",
    "To start, we need to determine the center positions of the stars. By eye, the center of the dimmer star appears to be at about (x_1, y_1) = (2, 3), and the brighter star at about (x_2, y_2) = (8, 4.5)."
   ]
  },
  {
   "cell_type": "code",
   "execution_count": null,
   "id": "2aab39b1",
   "metadata": {},
   "outputs": [],
   "source": [
    "(x1_cen, y1_cen) = (2, 3)\n",
    "(x2_cen, y2_cen) = (8, 4.5)\n",
    "\n",
    "plt.imshow(data)\n",
    "plt.scatter([x1_cen, x1_cen], [y1_cen, y1_cen], color='red')\n",
    "plt.scatter([x2_cen, x2_cen], [y2_cen, y2_cen], color='red')"
   ]
  },
  {
   "cell_type": "markdown",
   "id": "2260bdc3",
   "metadata": {},
   "source": [
    "Again, by eye, the dimmer star appears to extend one pixel up-down and left-right from the center. So we'll take that to be the size of both stars. (Of course, the brighter star appears to extend farther, but we won't worry about that right now.)"
   ]
  },
  {
   "cell_type": "code",
   "execution_count": 12,
   "id": "d6b8a404",
   "metadata": {},
   "outputs": [
    {
     "data": {
      "text/plain": [
       "<ErrorbarContainer object of 3 artists>"
      ]
     },
     "execution_count": 12,
     "metadata": {},
     "output_type": "execute_result"
    },
    {
     "data": {
      "image/png": "[encoded data removed]",
      "text/plain": [
       "<Figure size 640x480 with 1 Axes>"
      ]
     },
     "metadata": {},
     "output_type": "display_data"
    }
   ],
   "source": [
    "delta_x = 1\n",
    "delta_y = 1\n",
    "\n",
    "plt.imshow(data)\n",
    "plt.errorbar([x1_cen, x1_cen], [y1_cen, y1_cen], xerr=delta_x, yerr=delta_y, marker='o', color='red')\n",
    "plt.errorbar([x2_cen, x2_cen], [y2_cen, y2_cen], xerr=delta_x, yerr=delta_y, marker='o', color='red')"
   ]
  },
  {
   "cell_type": "markdown",
   "id": "980cb7ef",
   "metadata": {},
   "source": [
    "So now we can estimate the signal from each star plus the background (what Chromey calls $S_{xy}$ in Section 1.5). Since most of the pixels in the image are background pixels, we should be able to estimate the background using the mode."
   ]
  },
  {
   "cell_type": "code",
   "execution_count": 56,
   "id": "7ffe15be",
   "metadata": {},
   "outputs": [
    {
     "name": "stdout",
     "output_type": "stream",
     "text": [
      "14\n"
     ]
    }
   ],
   "source": [
    "#find unique values in array along with their counts\n",
    "vals, counts = np.unique(data, return_counts=True)\n",
    "\n",
    "#find mode\n",
    "mode_value = np.argwhere(counts == np.max(counts))\n",
    "background = np.max(mode_value)\n",
    "print(background)"
   ]
  },
  {
   "cell_type": "markdown",
   "id": "022bac1f",
   "metadata": {},
   "source": [
    "Now we'll sum up the signal from each star, subtracting the background estimate each time."
   ]
  },
  {
   "cell_type": "code",
   "execution_count": 58,
   "id": "94841559",
   "metadata": {},
   "outputs": [
    {
     "name": "stdout",
     "output_type": "stream",
     "text": [
      "780.0\n"
     ]
    },
    {
     "data": {
      "text/plain": [
       "<matplotlib.image.AxesImage at 0x7fda68fb7160>"
      ]
     },
     "execution_count": 58,
     "metadata": {},
     "output_type": "execute_result"
    },
    {
     "data": {
      "image/png": "[encoded data removed]",
      "text/plain": [
       "<Figure size 640x480 with 1 Axes>"
      ]
     },
     "metadata": {},
     "output_type": "display_data"
    }
   ],
   "source": [
    "star1 = np.sum(data[2:5, 1:4] - background)\n",
    "\n",
    "plt.imshow(data[, 7:10])"
   ]
  },
  {
   "cell_type": "code",
   "execution_count": null,
   "id": "af41e83c",
   "metadata": {},
   "outputs": [],
   "source": []
  }
 ],
 "metadata": {
  "kernelspec": {
   "display_name": "Python 3 (ipykernel)",
   "language": "python",
   "name": "python3"
  },
  "language_info": {
   "codemirror_mode": {
    "name": "ipython",
    "version": 3
   },
   "file_extension": ".py",
   "mimetype": "text/x-python",
   "name": "python",
   "nbconvert_exporter": "python",
   "pygments_lexer": "ipython3",
   "version": "3.9.12"
  }
 },
 "nbformat": 4,
 "nbformat_minor": 5
}
