{
 "cells": [
  {
   "cell_type": "markdown",
   "id": "b15db723",
   "metadata": {},
   "source": [
    "1. Astronomy primarily involves the study of celestial, i.e., extra-terrestrial phenomena, as informed by physics (and often by geology)."
   ]
  },
  {
   "cell_type": "markdown",
   "id": "122b7c19",
   "metadata": {},
   "source": [
    "2. (a) Photon energy $E$ is related to its wavelength $\\lambda$ as\n",
    "$$\n",
    "E = \\frac{hc}{\\lambda},\n",
    "$$\n",
    "where $h$ is Planck's constant ($\\approx 7 \\times 10^{-34}\\,{\\rm m^2\\ kg\\ s^{-1}}$) and $c$ is the speed of light ($\\approx 3\\times10^8\\,{\\rm m\\ s^{-1}}$).\n",
    "\n",
    "    We need to make sure we're using consistent units: $13.6\\,{\\rm eV} = 2\\times10^{-18}\\, {\\rm J}$.\n",
    "\n",
    "    So\n",
    "$$\n",
    "\\lambda = \\frac{\\left( 7 \\times 10^{-34}\\,{\\rm m^2\\ kg\\ s^{-1}} \\right) \\left( 3\\times10^8\\,{\\rm m\\ s^{-1}} \\right) }{2\\times10^{-18}\\, {\\rm J}} = \\boxed{ 10^{-8}\\, {\\rm m} = 0.1\\,{\\rm nm} },\n",
    "$$\n",
    "well into the UV."
   ]
  },
  {
   "cell_type": "markdown",
   "id": "607ed3c2",
   "metadata": {},
   "source": [
    "2. (b) We can use Wein's law (Eqn 1.16):\n",
    "$$\n",
    "T \\approx \\frac{3\\times10^{-3}\\,{\\rm m\\ K}}{\\lambda_{\\rm max}} = \\frac{3\\times10^{-3}\\,{\\rm m\\ K}}{10^{-8}\\,{\\rm m}} = 3\\times10^{5}\\, {\\rm K}. \n",
    "$$\n",
    "O-stars are this hot."
   ]
  },
  {
   "cell_type": "markdown",
   "id": "08ee6588",
   "metadata": {},
   "source": [
    "3. Eqn (1.12) tell us that integrating the per-wavelength monochromatic brightness $f_\\lambda$ over wavelength $\\lambda$ gives us a bolometric flux, which itself has units of ${\\rm W\\ m^{-2}}$. So \n",
    "\n",
    "$$\n",
    "{\\rm W\\ m^{-2}} = \\{ f_\\lambda \\lambda \\} = \\{ f_\\lambda \\}\\ {\\rm m } \\Rightarrow \\boxed{ \\{ f_\\lambda \\} = {\\rm W\\ m^{-3}} }.\n",
    "$$"
   ]
  },
  {
   "cell_type": "markdown",
   "id": "a38afef2",
   "metadata": {},
   "source": [
    "4. From Eqn 1.13, we have\n",
    "$$\n",
    "F(\\lambda_1, \\lambda_2) = \\int_{\\lambda_1}^{\\lambda_2} f_\\lambda\\ d\\lambda = \\int_{\\nu_2}^{\\nu_1} f_\\nu\\ d\\nu\n",
    "$$\n",
    "with $\\nu \\lambda = c$ (Eqn 1.2)\n",
    "\n",
    "    which gives\n",
    "$$\n",
    "d\\nu \\lambda + \\nu d\\lambda = 0 \\Rightarrow \\frac{d\\nu}{\\nu} = -\\frac{d\\lambda}{\\lambda}\n",
    "$$\n",
    "\n",
    "    If we take $\\lambda_1 = \\lambda$ and $\\lambda_2 = \\lambda + d\\lambda$, that also means $\\nu_1 = \\nu$ and $\\nu_2 = \\nu + d\\nu$, and so $d\\nu= -\\frac{\\nu}{\\lambda}\\ d\\lambda$.\n",
    "\n",
    "    The integrals from Eqn 1.13 become\n",
    "$$\n",
    "\\int_{\\lambda}^{\\lambda + d\\lambda} f_\\lambda\\ d\\lambda = \\int_{\\nu + d\\nu}^{\\nu} f_\\nu\\ d\\nu = -\\int_{\\nu(\\lambda) + d\\nu}^{\\nu} f_\\nu \\left( \\frac{\\nu}{\\lambda} \\right) d\\lambda = \\int_{\\nu}^{\\nu(\\lambda) + d\\nu} f_\\nu \\left( \\frac{\\nu}{\\lambda} \\right) d\\lambda.\n",
    "$$\n",
    "\n",
    "    In general,\n",
    "$$\n",
    "\\int_{y}^{y + dy} f(x)\\ dx = f(y)\\ dy\n",
    "$$\n",
    "\n",
    "$$\n",
    "f_\\lambda\\ d\\lambda = f_\\nu \\left( \\frac{\\nu}{\\lambda} \\right) d\\lambda\\\\\n",
    "\\Rightarrow \\boxed{ \\frac{f_\\lambda}{f_\\nu} = \\frac{\\nu}{\\lambda} }.\n",
    "$$"
   ]
  },
  {
   "cell_type": "markdown",
   "id": "6fd61fe3",
   "metadata": {},
   "source": [
    "5. (a) Stellar eclipses occur when surface area of one star occults (blocks) surface are of another star. Of course, the area doing the blocking also emits light, with a flux (energy per time per area) given by the Stefan-Boltzmann, which scales with the temperature of the emitting surface. \n",
    "\n",
    "    If the area doing the blocking is darker (i.e., cooler) than the area being blocked, then more total light is hidden from view than if the area doing the blocking is brighter (i.e., hotter). Thus, the primary eclipse must correspond to the occultation of the hotter star, no matter the relative radii."
   ]
  },
  {
   "cell_type": "markdown",
   "id": "550a3970",
   "metadata": {},
   "source": [
    "5. (b) Using the Stefan-Boltzmann law, we can calculate the total luminosity of each star $L_1$ and $L_2$ as \n",
    "$$\n",
    "L_1 = \\sigma T_1^4 4\\pi R^2\\\\\n",
    "L_2 = \\sigma T_2^4 4\\pi a^2.\n",
    "$$"
   ]
  },
  {
   "cell_type": "markdown",
   "id": "738147c9",
   "metadata": {},
   "source": [
    "Although the exact distance each star is from the Earth varies a little as they orbit one another, we can assume they are both always the same distance from Earth to a very high precision (typical orbital distances for stars are tens of astronomical units [$1\\, {\\rm AU} = 1.5\\times10^{8}\\, {\\rm km}$], while stars are lightyears from Earth [1 ly = $10^{13}\\, {\\rm km}$]).\n",
    "\n",
    "So we'll take the distance to each star to be $d$, which lets us calculate the flux from each star:\n",
    "$$\n",
    "F_1 = \\sigma T_1^4 \\left( \\frac{R}{d} \\right)^2\\\\\n",
    "F_2 = \\sigma T_2^4 \\left( \\frac{a}{d} \\right)^2\n",
    "$$"
   ]
  },
  {
   "cell_type": "markdown",
   "id": "642a3682",
   "metadata": {},
   "source": [
    "When both stars are visible, we see total flux $F_{\\rm max} = F_1 + F_2 = \\sigma T_1^4 \\left( \\frac{R}{d} \\right)^2 + \\sigma T_2^4 \\left( \\frac{a}{d} \\right)^2 $. "
   ]
  },
  {
   "cell_type": "markdown",
   "id": "dfb20ad3",
   "metadata": {},
   "source": [
    "When the smaller star (with radius $a$ and temperature $T_2$) is eclipsed, it disappears completely from view, meaning we only see star 1 and flux $F_1$, giving:\n",
    "$$\n",
    "\\frac{F_1}{F_{\\rm max}} = \\frac{\\sigma T_1^4 \\left( \\frac{R}{d} \\right)^2}{\\sigma T_1^4 \\left( \\frac{R}{d} \\right)^2 + \\sigma T_2^4 \\left( \\frac{a}{d} \\right)^2 } = \\frac{1}{1 + \\left( \\frac{T_2}{T_1} \\right)^4 \\left( \\frac{a}{R} \\right)^2 } = \\boxed{ \\frac{1}{1 + b} }.\n",
    "$$"
   ]
  },
  {
   "cell_type": "markdown",
   "id": "7fa58633",
   "metadata": {},
   "source": [
    "When the larger star (with radius $R$ and temperature $T_1$) is eclipsed, the portion of the larger star blocked out has area $A_{\\rm small} = \\pi a^2$, i.e., the surface area of the smaller star. So the luminosity seen from that occulted area is \n",
    "$$\n",
    "L_{\\rm small} = A_{\\rm small} \\sigma T_2^4 = \\pi a^2\\sigma T_2^4.\n",
    "$$\n",
    "\n",
    "The rest of the larger star, however, remains unocculted, so it appears to shine with its original luminosity. This portion has an area $A_{\\rm big} = \\pi R^2 - \\pi a^2$ and therefore shines with luminosity:\n",
    "$$\n",
    "L_{\\rm big} = A_{\\rm big} \\sigma T_1^4 = \\pi \\left( R^2 - a^2 \\right) \\sigma T_1^4.\n",
    "$$"
   ]
  },
  {
   "cell_type": "markdown",
   "id": "c04b9612",
   "metadata": {},
   "source": [
    "Scaling everything by distance to the system to convert to fluxes gives:\n",
    "$$\n",
    "\\frac{F_2}{F_{\\rm max}} = \\frac{a^2T_2^4 + \\left( R^2 - a^2 \\right) T_1^4}{T_1^4 R^2 + T_2^4 a^2}\n",
    "$$"
   ]
  },
  {
   "cell_type": "markdown",
   "id": "a9f6f283",
   "metadata": {},
   "source": [
    "$$\n",
    "\\frac{\\left( \\frac{a}{R} \\right)^2 \\left( \\frac{T_2}{T_1} \\right)^4 + 1 - \\left( \\frac{a}{R} \\right)^2}{\\sigma T_1^4 \\left( \\frac{R}{d} \\right)^2 + \\sigma T_2^4 \\left( \\frac{a}{d} \\right)^2}\n",
    "$$"
   ]
  }
 ],
 "metadata": {
  "kernelspec": {
   "display_name": "Python 3 (ipykernel)",
   "language": "python",
   "name": "python3"
  },
  "language_info": {
   "codemirror_mode": {
    "name": "ipython",
    "version": 3
   },
   "file_extension": ".py",
   "mimetype": "text/x-python",
   "name": "python",
   "nbconvert_exporter": "python",
   "pygments_lexer": "ipython3",
   "version": "3.9.12"
  }
 },
 "nbformat": 4,
 "nbformat_minor": 5
}
