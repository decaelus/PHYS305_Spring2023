{
 "cells": [
  {
   "cell_type": "markdown",
   "id": "9e4573d6",
   "metadata": {},
   "source": [
    "### 11."
   ]
  },
  {
   "cell_type": "markdown",
   "id": "faa280dd",
   "metadata": {},
   "source": [
    "### 12."
   ]
  },
  {
   "cell_type": "markdown",
   "id": "441a7a54",
   "metadata": {},
   "source": [
    "### JWST Problems"
   ]
  },
  {
   "cell_type": "markdown",
   "id": "5a624f62",
   "metadata": {},
   "source": [
    "### 1."
   ]
  },
  {
   "cell_type": "markdown",
   "id": "9411266b",
   "metadata": {},
   "source": [
    "### 2."
   ]
  }
 ],
 "metadata": {
  "kernelspec": {
   "display_name": "Python 3 (ipykernel)",
   "language": "python",
   "name": "python3"
  },
  "language_info": {
   "codemirror_mode": {
    "name": "ipython",
    "version": 3
   },
   "file_extension": ".py",
   "mimetype": "text/x-python",
   "name": "python",
   "nbconvert_exporter": "python",
   "pygments_lexer": "ipython3",
   "version": "3.8.8"
  }
 },
 "nbformat": 4,
 "nbformat_minor": 5
}
